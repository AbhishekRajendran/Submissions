{
  "nbformat": 4,
  "nbformat_minor": 0,
  "metadata": {
    "colab": {
      "provenance": []
    },
    "kernelspec": {
      "name": "python3",
      "display_name": "Python 3"
    },
    "language_info": {
      "name": "python"
    }
  },
  "cells": [
    {
      "cell_type": "code",
      "execution_count": null,
      "metadata": {
        "id": "KatHYQvR89um"
      },
      "outputs": [],
      "source": [
        "import pandas as pd\n",
        "from datetime import datetime\n",
        "\n",
        "# Load the user signup data\n",
        "user_signup_data = pd.read_csv('/content/Q2_users signup.csv')\n",
        "\n",
        "# Load the user offer completion data\n",
        "user_offer_completion_data = pd.read_csv('/content/Q2_User offer completion data (1).csv')\n",
        "\n",
        "# Load the rewards details data\n",
        "rewards_details_data = pd.read_csv('/content/Q2_rewards details.csv')\n"
      ]
    },
    {
      "cell_type": "code",
      "source": [
        "# Join the user signup data with the user offer completion data\n",
        "user_data = pd.merge(user_signup_data, user_offer_completion_data, on='user_id')"
      ],
      "metadata": {
        "id": "23Kh-g5f9NPX"
      },
      "execution_count": null,
      "outputs": []
    },
    {
      "cell_type": "code",
      "source": [
        "# Join the user data with the rewards details data\n",
        "user_data = pd.merge(user_data, rewards_details_data, on='reward_id')"
      ],
      "metadata": {
        "id": "I12qBtNt9VEO"
      },
      "execution_count": null,
      "outputs": []
    },
    {
      "cell_type": "code",
      "source": [
        "# Calculate the revenue earned by GG for each offer completed by a user\n",
        "user_data['revenue_in_paise'] = user_data['total_revenue_in_paise'] - user_data['total_payout_in_paise']"
      ],
      "metadata": {
        "id": "_nXoIUuL9YXF"
      },
      "execution_count": null,
      "outputs": []
    },
    {
      "cell_type": "code",
      "source": [
        "# Calculate the total revenue earned by GG for each user\n",
        "user_revenue = user_data.groupby(['user_id']).agg({'revenue_in_paise': 'sum'})\n"
      ],
      "metadata": {
        "id": "nXqdLp5A9fC2"
      },
      "execution_count": null,
      "outputs": []
    },
    {
      "cell_type": "code",
      "source": [
        "# Calculate the LTV for each user\n",
        "average_customer_lifespan_in_months = 12\n",
        "user_revenue['ltv'] = user_revenue['revenue_in_paise'] * average_customer_lifespan_in_months / 100"
      ],
      "metadata": {
        "id": "r4G7LjBJ9trs"
      },
      "execution_count": null,
      "outputs": []
    },
    {
      "cell_type": "markdown",
      "source": [
        "In the above code, we are calculating the lifetime value (LTV) of each user by multiplying their total revenue (in paisa) by the average customer lifespan (in months) and dividing by 100.\n",
        "\n",
        "The value of average_customer_lifespan_in_months is set to 12 because we are assuming that the average customer lifespan is 12 months, or one year. This means that we are estimating the total revenue that each user will generate over the course of one year on the Sikka app."
      ],
      "metadata": {
        "id": "jJMA4ifH9zQA"
      }
    },
    {
      "cell_type": "code",
      "source": [],
      "metadata": {
        "id": "cqBYo9ZN9z2M"
      },
      "execution_count": null,
      "outputs": []
    }
  ]
}