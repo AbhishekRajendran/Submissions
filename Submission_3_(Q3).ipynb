{
  "cells": [
    {
      "cell_type": "code",
      "execution_count": null,
      "metadata": {
        "id": "lLDyQFW4y6-l"
      },
      "outputs": [],
      "source": [
        "# Import Pandas library for loading data to dataframe\n",
        "import pandas as pd"
      ]
    },
    {
      "cell_type": "code",
      "execution_count": null,
      "metadata": {
        "id": "xHPgCsSSzMj7"
      },
      "outputs": [],
      "source": [
        "# Read the data\n",
        "Sikka_data = pd.read_csv('/content/Q3_Sikka data.csv')"
      ]
    },
    {
      "cell_type": "code",
      "execution_count": null,
      "metadata": {
        "id": "wRF2xpqyzajb"
      },
      "outputs": [],
      "source": [
        "Sikka_data"
      ]
    },
    {
      "cell_type": "code",
      "execution_count": null,
      "metadata": {
        "colab": {
          "base_uri": "https://localhost:8080/"
        },
        "id": "fMECWczUznSr",
        "outputId": "1e7d8526-c9cd-4bef-c38c-138e7d946465"
      },
      "outputs": [
        {
          "name": "stdout",
          "output_type": "stream",
          "text": [
            "<class 'pandas.core.frame.DataFrame'>\n",
            "RangeIndex: 46 entries, 0 to 45\n",
            "Data columns (total 6 columns):\n",
            " #   Column      Non-Null Count  Dtype  \n",
            "---  ------      --------------  -----  \n",
            " 0   Date        46 non-null     object \n",
            " 1   DAU         46 non-null     int64  \n",
            " 2   Installs    46 non-null     int64  \n",
            " 3   Uninstalls  46 non-null     int64  \n",
            " 4   Signups     46 non-null     int64  \n",
            " 5   Referrals   31 non-null     float64\n",
            "dtypes: float64(1), int64(4), object(1)\n",
            "memory usage: 2.3+ KB\n"
          ]
        }
      ],
      "source": [
        "Sikka_data.info()"
      ]
    },
    {
      "cell_type": "code",
      "execution_count": null,
      "metadata": {
        "id": "rrbwYgEJ2ADn"
      },
      "outputs": [],
      "source": [
        "# Convert 'Date' column to a datetimelike format\n",
        "Sikka_data['Date'] = pd.to_datetime(Sikka_data['Date'])"
      ]
    },
    {
      "cell_type": "code",
      "execution_count": null,
      "metadata": {
        "id": "VuJ7N5cT2BYi"
      },
      "outputs": [],
      "source": [
        "# Extract the day from the Date field\n",
        "Sikka_data['day'] = Sikka_data['Date'].dt.day"
      ]
    },
    {
      "cell_type": "code",
      "execution_count": null,
      "metadata": {
        "id": "urXR19iT0NMp"
      },
      "outputs": [],
      "source": [
        "# Separate the data for October and the first 15 days of November\n",
        "october_data = Sikka_data[Sikka_data['Date'].dt.month == 10]\n",
        "november_data = Sikka_data[Sikka_data['Date'].dt.month == 11][:15]"
      ]
    },
    {
      "cell_type": "code",
      "execution_count": null,
      "metadata": {
        "colab": {
          "background_save": true
        },
        "id": "cxQBJ4ou0e9o"
      },
      "outputs": [],
      "source": [
        "october_data"
      ]
    },
    {
      "cell_type": "code",
      "execution_count": null,
      "metadata": {
        "id": "T5vJXSAs0i3Q"
      },
      "outputs": [],
      "source": [
        "november_data"
      ]
    },
    {
      "cell_type": "code",
      "execution_count": null,
      "metadata": {
        "id": "8ZGuykv-0GxK"
      },
      "outputs": [],
      "source": [
        "# Create a new dataframe with total referrals and DAU for each day in October\n",
        "october_referrals = october_data.groupby('day')['Referrals'].sum().reset_index()\n",
        "october_dau = october_data.groupby('day')['DAU'].sum().reset_index()\n",
        "october_merged = pd.merge(october_referrals, october_dau, on='day')\n",
        "\n"
      ]
    },
    {
      "cell_type": "code",
      "execution_count": null,
      "metadata": {
        "colab": {
          "base_uri": "https://localhost:8080/",
          "height": 74
        },
        "id": "fNhYHpSj1cb4",
        "outputId": "e6d50814-fc3e-492f-8d85-5b3c52b089a2"
      },
      "outputs": [
        {
          "data": {
            "text/html": [
              "<style>#sk-container-id-1 {color: black;background-color: white;}#sk-container-id-1 pre{padding: 0;}#sk-container-id-1 div.sk-toggleable {background-color: white;}#sk-container-id-1 label.sk-toggleable__label {cursor: pointer;display: block;width: 100%;margin-bottom: 0;padding: 0.3em;box-sizing: border-box;text-align: center;}#sk-container-id-1 label.sk-toggleable__label-arrow:before {content: \"▸\";float: left;margin-right: 0.25em;color: #696969;}#sk-container-id-1 label.sk-toggleable__label-arrow:hover:before {color: black;}#sk-container-id-1 div.sk-estimator:hover label.sk-toggleable__label-arrow:before {color: black;}#sk-container-id-1 div.sk-toggleable__content {max-height: 0;max-width: 0;overflow: hidden;text-align: left;background-color: #f0f8ff;}#sk-container-id-1 div.sk-toggleable__content pre {margin: 0.2em;color: black;border-radius: 0.25em;background-color: #f0f8ff;}#sk-container-id-1 input.sk-toggleable__control:checked~div.sk-toggleable__content {max-height: 200px;max-width: 100%;overflow: auto;}#sk-container-id-1 input.sk-toggleable__control:checked~label.sk-toggleable__label-arrow:before {content: \"▾\";}#sk-container-id-1 div.sk-estimator input.sk-toggleable__control:checked~label.sk-toggleable__label {background-color: #d4ebff;}#sk-container-id-1 div.sk-label input.sk-toggleable__control:checked~label.sk-toggleable__label {background-color: #d4ebff;}#sk-container-id-1 input.sk-hidden--visually {border: 0;clip: rect(1px 1px 1px 1px);clip: rect(1px, 1px, 1px, 1px);height: 1px;margin: -1px;overflow: hidden;padding: 0;position: absolute;width: 1px;}#sk-container-id-1 div.sk-estimator {font-family: monospace;background-color: #f0f8ff;border: 1px dotted black;border-radius: 0.25em;box-sizing: border-box;margin-bottom: 0.5em;}#sk-container-id-1 div.sk-estimator:hover {background-color: #d4ebff;}#sk-container-id-1 div.sk-parallel-item::after {content: \"\";width: 100%;border-bottom: 1px solid gray;flex-grow: 1;}#sk-container-id-1 div.sk-label:hover label.sk-toggleable__label {background-color: #d4ebff;}#sk-container-id-1 div.sk-serial::before {content: \"\";position: absolute;border-left: 1px solid gray;box-sizing: border-box;top: 0;bottom: 0;left: 50%;z-index: 0;}#sk-container-id-1 div.sk-serial {display: flex;flex-direction: column;align-items: center;background-color: white;padding-right: 0.2em;padding-left: 0.2em;position: relative;}#sk-container-id-1 div.sk-item {position: relative;z-index: 1;}#sk-container-id-1 div.sk-parallel {display: flex;align-items: stretch;justify-content: center;background-color: white;position: relative;}#sk-container-id-1 div.sk-item::before, #sk-container-id-1 div.sk-parallel-item::before {content: \"\";position: absolute;border-left: 1px solid gray;box-sizing: border-box;top: 0;bottom: 0;left: 50%;z-index: -1;}#sk-container-id-1 div.sk-parallel-item {display: flex;flex-direction: column;z-index: 1;position: relative;background-color: white;}#sk-container-id-1 div.sk-parallel-item:first-child::after {align-self: flex-end;width: 50%;}#sk-container-id-1 div.sk-parallel-item:last-child::after {align-self: flex-start;width: 50%;}#sk-container-id-1 div.sk-parallel-item:only-child::after {width: 0;}#sk-container-id-1 div.sk-dashed-wrapped {border: 1px dashed gray;margin: 0 0.4em 0.5em 0.4em;box-sizing: border-box;padding-bottom: 0.4em;background-color: white;}#sk-container-id-1 div.sk-label label {font-family: monospace;font-weight: bold;display: inline-block;line-height: 1.2em;}#sk-container-id-1 div.sk-label-container {text-align: center;}#sk-container-id-1 div.sk-container {/* jupyter's `normalize.less` sets `[hidden] { display: none; }` but bootstrap.min.css set `[hidden] { display: none !important; }` so we also need the `!important` here to be able to override the default hidden behavior on the sphinx rendered scikit-learn.org. See: https://github.com/scikit-learn/scikit-learn/issues/21755 */display: inline-block !important;position: relative;}#sk-container-id-1 div.sk-text-repr-fallback {display: none;}</style><div id=\"sk-container-id-1\" class=\"sk-top-container\"><div class=\"sk-text-repr-fallback\"><pre>LinearRegression()</pre><b>In a Jupyter environment, please rerun this cell to show the HTML representation or trust the notebook. <br />On GitHub, the HTML representation is unable to render, please try loading this page with nbviewer.org.</b></div><div class=\"sk-container\" hidden><div class=\"sk-item\"><div class=\"sk-estimator sk-toggleable\"><input class=\"sk-toggleable__control sk-hidden--visually\" id=\"sk-estimator-id-1\" type=\"checkbox\" checked><label for=\"sk-estimator-id-1\" class=\"sk-toggleable__label sk-toggleable__label-arrow\">LinearRegression</label><div class=\"sk-toggleable__content\"><pre>LinearRegression()</pre></div></div></div></div></div>"
            ],
            "text/plain": [
              "LinearRegression()"
            ]
          },
          "execution_count": 15,
          "metadata": {},
          "output_type": "execute_result"
        }
      ],
      "source": [
        "# Create a linear regression model and fit it to the October data\n",
        "model = LinearRegression()\n",
        "model.fit(october_merged[['DAU']], october_merged['Referrals'])\n"
      ]
    },
    {
      "cell_type": "code",
      "execution_count": null,
      "metadata": {
        "id": "sIHmw9MZ1eJh"
      },
      "outputs": [],
      "source": [
        "# Predict the referrals for the first 15 days of November\n",
        "november_dau = november_data.groupby('day')['DAU'].sum().reset_index()\n",
        "november_predictions = model.predict(november_dau[['DAU']]).round(0)\n"
      ]
    },
    {
      "cell_type": "code",
      "execution_count": null,
      "metadata": {
        "id": "OvdJO2Ze1fqf"
      },
      "outputs": [],
      "source": [
        "# Add the predicted referrals to the November data\n",
        "november_data['predicted_referrals'] = november_predictions"
      ]
    },
    {
      "cell_type": "code",
      "execution_count": null,
      "metadata": {
        "colab": {
          "base_uri": "https://localhost:8080/"
        },
        "id": "Y_otg7dR1hDH",
        "outputId": "b6a5f0dc-7e86-4bb8-d559-dc28ee0a7314"
      },
      "outputs": [
        {
          "output_type": "stream",
          "name": "stdout",
          "text": [
            "    day  predicted_referrals\n",
            "31    1                395.0\n",
            "32    2                395.0\n",
            "33    3                355.0\n",
            "34    4                383.0\n",
            "35    5                371.0\n",
            "36    6                413.0\n",
            "37    7                382.0\n",
            "38    8                404.0\n",
            "39    9                404.0\n",
            "40   10                424.0\n",
            "41   11                447.0\n",
            "42   12                428.0\n",
            "43   13                426.0\n",
            "44   14                450.0\n",
            "45   15                480.0\n"
          ]
        }
      ],
      "source": [
        "# Print the predicted referrals for each day in November\n",
        "print(november_data[['day', 'predicted_referrals']])"
      ]
    },
    {
      "cell_type": "code",
      "source": [
        "november_data[['Date','DAU','Installs','Signups','Referrals','day','predicted_referrals']]"
      ],
      "metadata": {
        "colab": {
          "base_uri": "https://localhost:8080/",
          "height": 519
        },
        "id": "OU0tViSr4fzD",
        "outputId": "aae934cb-205a-4b17-992b-a26e7c44cc60"
      },
      "execution_count": null,
      "outputs": [
        {
          "output_type": "execute_result",
          "data": {
            "text/plain": [
              "         Date    DAU  Installs  Signups  Referrals  day  predicted_referrals\n",
              "31 2022-11-01  12816      3763     1806        NaN    1                395.0\n",
              "32 2022-11-02  12812      3087     1550        NaN    2                395.0\n",
              "33 2022-11-03  12042      3176     1410        NaN    3                355.0\n",
              "34 2022-11-04  12595      3172     1629        NaN    4                383.0\n",
              "35 2022-11-05  12361      3390     1578        NaN    5                371.0\n",
              "36 2022-11-06  13166      3441     1656        NaN    6                413.0\n",
              "37 2022-11-07  12565      3468     1556        NaN    7                382.0\n",
              "38 2022-11-08  12988      4468     1808        NaN    8                404.0\n",
              "39 2022-11-09  12992      4491     2017        NaN    9                404.0\n",
              "40 2022-11-10  13377      4261     1997        NaN   10                424.0\n",
              "41 2022-11-11  13826      4274     2047        NaN   11                447.0\n",
              "42 2022-11-12  13464      4660     2066        NaN   12                428.0\n",
              "43 2022-11-13  13415      4416     2147        NaN   13                426.0\n",
              "44 2022-11-14  13873      4097     2065        NaN   14                450.0\n",
              "45 2022-11-15  14459      4890     2707        NaN   15                480.0"
            ],
            "text/html": [
              "\n",
              "  <div id=\"df-29b05cd0-4511-4018-b4b7-5d12dabe9c69\">\n",
              "    <div class=\"colab-df-container\">\n",
              "      <div>\n",
              "<style scoped>\n",
              "    .dataframe tbody tr th:only-of-type {\n",
              "        vertical-align: middle;\n",
              "    }\n",
              "\n",
              "    .dataframe tbody tr th {\n",
              "        vertical-align: top;\n",
              "    }\n",
              "\n",
              "    .dataframe thead th {\n",
              "        text-align: right;\n",
              "    }\n",
              "</style>\n",
              "<table border=\"1\" class=\"dataframe\">\n",
              "  <thead>\n",
              "    <tr style=\"text-align: right;\">\n",
              "      <th></th>\n",
              "      <th>Date</th>\n",
              "      <th>DAU</th>\n",
              "      <th>Installs</th>\n",
              "      <th>Signups</th>\n",
              "      <th>Referrals</th>\n",
              "      <th>day</th>\n",
              "      <th>predicted_referrals</th>\n",
              "    </tr>\n",
              "  </thead>\n",
              "  <tbody>\n",
              "    <tr>\n",
              "      <th>31</th>\n",
              "      <td>2022-11-01</td>\n",
              "      <td>12816</td>\n",
              "      <td>3763</td>\n",
              "      <td>1806</td>\n",
              "      <td>NaN</td>\n",
              "      <td>1</td>\n",
              "      <td>395.0</td>\n",
              "    </tr>\n",
              "    <tr>\n",
              "      <th>32</th>\n",
              "      <td>2022-11-02</td>\n",
              "      <td>12812</td>\n",
              "      <td>3087</td>\n",
              "      <td>1550</td>\n",
              "      <td>NaN</td>\n",
              "      <td>2</td>\n",
              "      <td>395.0</td>\n",
              "    </tr>\n",
              "    <tr>\n",
              "      <th>33</th>\n",
              "      <td>2022-11-03</td>\n",
              "      <td>12042</td>\n",
              "      <td>3176</td>\n",
              "      <td>1410</td>\n",
              "      <td>NaN</td>\n",
              "      <td>3</td>\n",
              "      <td>355.0</td>\n",
              "    </tr>\n",
              "    <tr>\n",
              "      <th>34</th>\n",
              "      <td>2022-11-04</td>\n",
              "      <td>12595</td>\n",
              "      <td>3172</td>\n",
              "      <td>1629</td>\n",
              "      <td>NaN</td>\n",
              "      <td>4</td>\n",
              "      <td>383.0</td>\n",
              "    </tr>\n",
              "    <tr>\n",
              "      <th>35</th>\n",
              "      <td>2022-11-05</td>\n",
              "      <td>12361</td>\n",
              "      <td>3390</td>\n",
              "      <td>1578</td>\n",
              "      <td>NaN</td>\n",
              "      <td>5</td>\n",
              "      <td>371.0</td>\n",
              "    </tr>\n",
              "    <tr>\n",
              "      <th>36</th>\n",
              "      <td>2022-11-06</td>\n",
              "      <td>13166</td>\n",
              "      <td>3441</td>\n",
              "      <td>1656</td>\n",
              "      <td>NaN</td>\n",
              "      <td>6</td>\n",
              "      <td>413.0</td>\n",
              "    </tr>\n",
              "    <tr>\n",
              "      <th>37</th>\n",
              "      <td>2022-11-07</td>\n",
              "      <td>12565</td>\n",
              "      <td>3468</td>\n",
              "      <td>1556</td>\n",
              "      <td>NaN</td>\n",
              "      <td>7</td>\n",
              "      <td>382.0</td>\n",
              "    </tr>\n",
              "    <tr>\n",
              "      <th>38</th>\n",
              "      <td>2022-11-08</td>\n",
              "      <td>12988</td>\n",
              "      <td>4468</td>\n",
              "      <td>1808</td>\n",
              "      <td>NaN</td>\n",
              "      <td>8</td>\n",
              "      <td>404.0</td>\n",
              "    </tr>\n",
              "    <tr>\n",
              "      <th>39</th>\n",
              "      <td>2022-11-09</td>\n",
              "      <td>12992</td>\n",
              "      <td>4491</td>\n",
              "      <td>2017</td>\n",
              "      <td>NaN</td>\n",
              "      <td>9</td>\n",
              "      <td>404.0</td>\n",
              "    </tr>\n",
              "    <tr>\n",
              "      <th>40</th>\n",
              "      <td>2022-11-10</td>\n",
              "      <td>13377</td>\n",
              "      <td>4261</td>\n",
              "      <td>1997</td>\n",
              "      <td>NaN</td>\n",
              "      <td>10</td>\n",
              "      <td>424.0</td>\n",
              "    </tr>\n",
              "    <tr>\n",
              "      <th>41</th>\n",
              "      <td>2022-11-11</td>\n",
              "      <td>13826</td>\n",
              "      <td>4274</td>\n",
              "      <td>2047</td>\n",
              "      <td>NaN</td>\n",
              "      <td>11</td>\n",
              "      <td>447.0</td>\n",
              "    </tr>\n",
              "    <tr>\n",
              "      <th>42</th>\n",
              "      <td>2022-11-12</td>\n",
              "      <td>13464</td>\n",
              "      <td>4660</td>\n",
              "      <td>2066</td>\n",
              "      <td>NaN</td>\n",
              "      <td>12</td>\n",
              "      <td>428.0</td>\n",
              "    </tr>\n",
              "    <tr>\n",
              "      <th>43</th>\n",
              "      <td>2022-11-13</td>\n",
              "      <td>13415</td>\n",
              "      <td>4416</td>\n",
              "      <td>2147</td>\n",
              "      <td>NaN</td>\n",
              "      <td>13</td>\n",
              "      <td>426.0</td>\n",
              "    </tr>\n",
              "    <tr>\n",
              "      <th>44</th>\n",
              "      <td>2022-11-14</td>\n",
              "      <td>13873</td>\n",
              "      <td>4097</td>\n",
              "      <td>2065</td>\n",
              "      <td>NaN</td>\n",
              "      <td>14</td>\n",
              "      <td>450.0</td>\n",
              "    </tr>\n",
              "    <tr>\n",
              "      <th>45</th>\n",
              "      <td>2022-11-15</td>\n",
              "      <td>14459</td>\n",
              "      <td>4890</td>\n",
              "      <td>2707</td>\n",
              "      <td>NaN</td>\n",
              "      <td>15</td>\n",
              "      <td>480.0</td>\n",
              "    </tr>\n",
              "  </tbody>\n",
              "</table>\n",
              "</div>\n",
              "      <button class=\"colab-df-convert\" onclick=\"convertToInteractive('df-29b05cd0-4511-4018-b4b7-5d12dabe9c69')\"\n",
              "              title=\"Convert this dataframe to an interactive table.\"\n",
              "              style=\"display:none;\">\n",
              "        \n",
              "  <svg xmlns=\"http://www.w3.org/2000/svg\" height=\"24px\"viewBox=\"0 0 24 24\"\n",
              "       width=\"24px\">\n",
              "    <path d=\"M0 0h24v24H0V0z\" fill=\"none\"/>\n",
              "    <path d=\"M18.56 5.44l.94 2.06.94-2.06 2.06-.94-2.06-.94-.94-2.06-.94 2.06-2.06.94zm-11 1L8.5 8.5l.94-2.06 2.06-.94-2.06-.94L8.5 2.5l-.94 2.06-2.06.94zm10 10l.94 2.06.94-2.06 2.06-.94-2.06-.94-.94-2.06-.94 2.06-2.06.94z\"/><path d=\"M17.41 7.96l-1.37-1.37c-.4-.4-.92-.59-1.43-.59-.52 0-1.04.2-1.43.59L10.3 9.45l-7.72 7.72c-.78.78-.78 2.05 0 2.83L4 21.41c.39.39.9.59 1.41.59.51 0 1.02-.2 1.41-.59l7.78-7.78 2.81-2.81c.8-.78.8-2.07 0-2.86zM5.41 20L4 18.59l7.72-7.72 1.47 1.35L5.41 20z\"/>\n",
              "  </svg>\n",
              "      </button>\n",
              "      \n",
              "  <style>\n",
              "    .colab-df-container {\n",
              "      display:flex;\n",
              "      flex-wrap:wrap;\n",
              "      gap: 12px;\n",
              "    }\n",
              "\n",
              "    .colab-df-convert {\n",
              "      background-color: #E8F0FE;\n",
              "      border: none;\n",
              "      border-radius: 50%;\n",
              "      cursor: pointer;\n",
              "      display: none;\n",
              "      fill: #1967D2;\n",
              "      height: 32px;\n",
              "      padding: 0 0 0 0;\n",
              "      width: 32px;\n",
              "    }\n",
              "\n",
              "    .colab-df-convert:hover {\n",
              "      background-color: #E2EBFA;\n",
              "      box-shadow: 0px 1px 2px rgba(60, 64, 67, 0.3), 0px 1px 3px 1px rgba(60, 64, 67, 0.15);\n",
              "      fill: #174EA6;\n",
              "    }\n",
              "\n",
              "    [theme=dark] .colab-df-convert {\n",
              "      background-color: #3B4455;\n",
              "      fill: #D2E3FC;\n",
              "    }\n",
              "\n",
              "    [theme=dark] .colab-df-convert:hover {\n",
              "      background-color: #434B5C;\n",
              "      box-shadow: 0px 1px 3px 1px rgba(0, 0, 0, 0.15);\n",
              "      filter: drop-shadow(0px 1px 2px rgba(0, 0, 0, 0.3));\n",
              "      fill: #FFFFFF;\n",
              "    }\n",
              "  </style>\n",
              "\n",
              "      <script>\n",
              "        const buttonEl =\n",
              "          document.querySelector('#df-29b05cd0-4511-4018-b4b7-5d12dabe9c69 button.colab-df-convert');\n",
              "        buttonEl.style.display =\n",
              "          google.colab.kernel.accessAllowed ? 'block' : 'none';\n",
              "\n",
              "        async function convertToInteractive(key) {\n",
              "          const element = document.querySelector('#df-29b05cd0-4511-4018-b4b7-5d12dabe9c69');\n",
              "          const dataTable =\n",
              "            await google.colab.kernel.invokeFunction('convertToInteractive',\n",
              "                                                     [key], {});\n",
              "          if (!dataTable) return;\n",
              "\n",
              "          const docLinkHtml = 'Like what you see? Visit the ' +\n",
              "            '<a target=\"_blank\" href=https://colab.research.google.com/notebooks/data_table.ipynb>data table notebook</a>'\n",
              "            + ' to learn more about interactive tables.';\n",
              "          element.innerHTML = '';\n",
              "          dataTable['output_type'] = 'display_data';\n",
              "          await google.colab.output.renderOutput(dataTable, element);\n",
              "          const docLink = document.createElement('div');\n",
              "          docLink.innerHTML = docLinkHtml;\n",
              "          element.appendChild(docLink);\n",
              "        }\n",
              "      </script>\n",
              "    </div>\n",
              "  </div>\n",
              "  "
            ]
          },
          "metadata": {},
          "execution_count": 34
        }
      ]
    },
    {
      "cell_type": "code",
      "source": [],
      "metadata": {
        "id": "p0akadKl45Ip"
      },
      "execution_count": null,
      "outputs": []
    }
  ],
  "metadata": {
    "colab": {
      "provenance": []
    },
    "kernelspec": {
      "display_name": "Python 3",
      "name": "python3"
    },
    "language_info": {
      "name": "python"
    }
  },
  "nbformat": 4,
  "nbformat_minor": 0
}